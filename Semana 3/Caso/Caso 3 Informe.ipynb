{
 "cells": [
  {
   "cell_type": "code",
   "execution_count": 45,
   "metadata": {},
   "outputs": [],
   "source": [
    "import pandas as pd\n",
    "import numpy as np\n",
    "import matplotlib.pyplot as plt\n",
    "import seaborn as sns\n",
    "\n",
    "\n",
    "\n",
    "#Funciones de Python creadas por equipo Simulacion\n",
    "from funcioneschicuadrado_continuas import*\n",
    "from funciones_KS_test import*\n",
    "from funciones_qq_pp_plot import*"
   ]
  },
  {
   "cell_type": "code",
   "execution_count": 31,
   "metadata": {},
   "outputs": [
    {
     "data": {
      "text/html": [
       "<div>\n",
       "<style scoped>\n",
       "    .dataframe tbody tr th:only-of-type {\n",
       "        vertical-align: middle;\n",
       "    }\n",
       "\n",
       "    .dataframe tbody tr th {\n",
       "        vertical-align: top;\n",
       "    }\n",
       "\n",
       "    .dataframe thead th {\n",
       "        text-align: right;\n",
       "    }\n",
       "</style>\n",
       "<table border=\"1\" class=\"dataframe\">\n",
       "  <thead>\n",
       "    <tr style=\"text-align: right;\">\n",
       "      <th></th>\n",
       "      <th>Fecha de Llegada</th>\n",
       "      <th>Tipo de Avión</th>\n",
       "    </tr>\n",
       "  </thead>\n",
       "  <tbody>\n",
       "    <tr>\n",
       "      <th>0</th>\n",
       "      <td>2023-05-01 00:00:00.000</td>\n",
       "      <td>Mediano</td>\n",
       "    </tr>\n",
       "    <tr>\n",
       "      <th>1</th>\n",
       "      <td>2023-05-01 00:12:48.533</td>\n",
       "      <td>Grande</td>\n",
       "    </tr>\n",
       "    <tr>\n",
       "      <th>2</th>\n",
       "      <td>2023-05-01 00:20:31.919</td>\n",
       "      <td>Mediano</td>\n",
       "    </tr>\n",
       "    <tr>\n",
       "      <th>3</th>\n",
       "      <td>2023-05-01 00:31:48.641</td>\n",
       "      <td>Pequeño</td>\n",
       "    </tr>\n",
       "    <tr>\n",
       "      <th>4</th>\n",
       "      <td>2023-05-01 00:40:09.796</td>\n",
       "      <td>Pequeño</td>\n",
       "    </tr>\n",
       "  </tbody>\n",
       "</table>\n",
       "</div>"
      ],
      "text/plain": [
       "         Fecha de Llegada Tipo de Avión\n",
       "0 2023-05-01 00:00:00.000       Mediano\n",
       "1 2023-05-01 00:12:48.533        Grande\n",
       "2 2023-05-01 00:20:31.919       Mediano\n",
       "3 2023-05-01 00:31:48.641       Pequeño\n",
       "4 2023-05-01 00:40:09.796       Pequeño"
      ]
     },
     "execution_count": 31,
     "metadata": {},
     "output_type": "execute_result"
    }
   ],
   "source": [
    "datos_llegada_aviones=pd.read_excel('Datos-Caso-III.xlsx',sheet_name='DatosLlegadaAviones')\n",
    "datos_llegada_aviones['Fecha de Llegada'] = pd.to_datetime(datos_llegada_aviones['Fecha de Llegada'])\n",
    "datos_llegada_aviones.head()"
   ]
  },
  {
   "cell_type": "code",
   "execution_count": 32,
   "metadata": {},
   "outputs": [
    {
     "data": {
      "text/html": [
       "<div>\n",
       "<style scoped>\n",
       "    .dataframe tbody tr th:only-of-type {\n",
       "        vertical-align: middle;\n",
       "    }\n",
       "\n",
       "    .dataframe tbody tr th {\n",
       "        vertical-align: top;\n",
       "    }\n",
       "\n",
       "    .dataframe thead th {\n",
       "        text-align: right;\n",
       "    }\n",
       "</style>\n",
       "<table border=\"1\" class=\"dataframe\">\n",
       "  <thead>\n",
       "    <tr style=\"text-align: right;\">\n",
       "      <th></th>\n",
       "      <th>Pasajero</th>\n",
       "      <th>Tipo de pasaporte</th>\n",
       "      <th>¿Lleva maleta?</th>\n",
       "    </tr>\n",
       "  </thead>\n",
       "  <tbody>\n",
       "    <tr>\n",
       "      <th>0</th>\n",
       "      <td>1</td>\n",
       "      <td>Extranjero</td>\n",
       "      <td>Sí</td>\n",
       "    </tr>\n",
       "    <tr>\n",
       "      <th>1</th>\n",
       "      <td>2</td>\n",
       "      <td>Nacional no biométrico</td>\n",
       "      <td>No</td>\n",
       "    </tr>\n",
       "    <tr>\n",
       "      <th>2</th>\n",
       "      <td>3</td>\n",
       "      <td>Nacional no biométrico</td>\n",
       "      <td>Sí</td>\n",
       "    </tr>\n",
       "    <tr>\n",
       "      <th>3</th>\n",
       "      <td>4</td>\n",
       "      <td>Nacional no biométrico</td>\n",
       "      <td>Sí</td>\n",
       "    </tr>\n",
       "    <tr>\n",
       "      <th>4</th>\n",
       "      <td>5</td>\n",
       "      <td>Nacional no biométrico</td>\n",
       "      <td>Sí</td>\n",
       "    </tr>\n",
       "  </tbody>\n",
       "</table>\n",
       "</div>"
      ],
      "text/plain": [
       "   Pasajero       Tipo de pasaporte ¿Lleva maleta?\n",
       "0         1              Extranjero             Sí\n",
       "1         2  Nacional no biométrico             No\n",
       "2         3  Nacional no biométrico             Sí\n",
       "3         4  Nacional no biométrico             Sí\n",
       "4         5  Nacional no biométrico             Sí"
      ]
     },
     "execution_count": 32,
     "metadata": {},
     "output_type": "execute_result"
    }
   ],
   "source": [
    "datos_pasajeros=pd.read_excel('Datos-Caso-III.xlsx',sheet_name='DatosPasajeros')\n",
    "datos_pasajeros.head()"
   ]
  },
  {
   "cell_type": "code",
   "execution_count": 33,
   "metadata": {},
   "outputs": [
    {
     "data": {
      "text/html": [
       "<div>\n",
       "<style scoped>\n",
       "    .dataframe tbody tr th:only-of-type {\n",
       "        vertical-align: middle;\n",
       "    }\n",
       "\n",
       "    .dataframe tbody tr th {\n",
       "        vertical-align: top;\n",
       "    }\n",
       "\n",
       "    .dataframe thead th {\n",
       "        text-align: right;\n",
       "    }\n",
       "</style>\n",
       "<table border=\"1\" class=\"dataframe\">\n",
       "  <thead>\n",
       "    <tr style=\"text-align: right;\">\n",
       "      <th></th>\n",
       "      <th>Persona atendida</th>\n",
       "      <th>Tipo de pasaporte</th>\n",
       "      <th>Tiempo de servicio (minutos)</th>\n",
       "    </tr>\n",
       "  </thead>\n",
       "  <tbody>\n",
       "    <tr>\n",
       "      <th>0</th>\n",
       "      <td>1</td>\n",
       "      <td>Biométrico</td>\n",
       "      <td>0.349995</td>\n",
       "    </tr>\n",
       "    <tr>\n",
       "      <th>1</th>\n",
       "      <td>2</td>\n",
       "      <td>Biométrico</td>\n",
       "      <td>2.046627</td>\n",
       "    </tr>\n",
       "    <tr>\n",
       "      <th>2</th>\n",
       "      <td>3</td>\n",
       "      <td>Biométrico</td>\n",
       "      <td>0.232612</td>\n",
       "    </tr>\n",
       "    <tr>\n",
       "      <th>3</th>\n",
       "      <td>4</td>\n",
       "      <td>Biométrico</td>\n",
       "      <td>1.085411</td>\n",
       "    </tr>\n",
       "    <tr>\n",
       "      <th>4</th>\n",
       "      <td>5</td>\n",
       "      <td>Biométrico</td>\n",
       "      <td>2.585409</td>\n",
       "    </tr>\n",
       "  </tbody>\n",
       "</table>\n",
       "</div>"
      ],
      "text/plain": [
       "   Persona atendida Tipo de pasaporte  Tiempo de servicio (minutos)\n",
       "0                 1        Biométrico                      0.349995\n",
       "1                 2        Biométrico                      2.046627\n",
       "2                 3        Biométrico                      0.232612\n",
       "3                 4        Biométrico                      1.085411\n",
       "4                 5        Biométrico                      2.585409"
      ]
     },
     "execution_count": 33,
     "metadata": {},
     "output_type": "execute_result"
    }
   ],
   "source": [
    "datos_tiempo_servicio=pd.read_excel('Datos-Caso-III.xlsx',sheet_name='TiempoDeServicioBiométrico')\n",
    "datos_tiempo_servicio.head()"
   ]
  },
  {
   "cell_type": "markdown",
   "metadata": {},
   "source": [
    "#### a.  Tiempo entre arribos de un avión desde un destino internacional para cada una de las siguientes franjas cuatro horarias: (6:00 am – 11:00 am; 11:00 am – 3:00 pm; 3:00 pm – 9:00 pm; 9:00 pm – 6:00 am) "
   ]
  },
  {
   "cell_type": "code",
   "execution_count": 34,
   "metadata": {},
   "outputs": [
    {
     "data": {
      "text/html": [
       "<div>\n",
       "<style scoped>\n",
       "    .dataframe tbody tr th:only-of-type {\n",
       "        vertical-align: middle;\n",
       "    }\n",
       "\n",
       "    .dataframe tbody tr th {\n",
       "        vertical-align: top;\n",
       "    }\n",
       "\n",
       "    .dataframe thead th {\n",
       "        text-align: right;\n",
       "    }\n",
       "</style>\n",
       "<table border=\"1\" class=\"dataframe\">\n",
       "  <thead>\n",
       "    <tr style=\"text-align: right;\">\n",
       "      <th></th>\n",
       "      <th>Fecha de Llegada</th>\n",
       "      <th>Tipo de Avión</th>\n",
       "      <th>Franja Horaria</th>\n",
       "    </tr>\n",
       "  </thead>\n",
       "  <tbody>\n",
       "    <tr>\n",
       "      <th>0</th>\n",
       "      <td>2023-05-01 00:00:00.000</td>\n",
       "      <td>Mediano</td>\n",
       "      <td>9:00 pm - 6:00 am</td>\n",
       "    </tr>\n",
       "    <tr>\n",
       "      <th>1</th>\n",
       "      <td>2023-05-01 00:12:48.533</td>\n",
       "      <td>Grande</td>\n",
       "      <td>9:00 pm - 6:00 am</td>\n",
       "    </tr>\n",
       "    <tr>\n",
       "      <th>2</th>\n",
       "      <td>2023-05-01 00:20:31.919</td>\n",
       "      <td>Mediano</td>\n",
       "      <td>9:00 pm - 6:00 am</td>\n",
       "    </tr>\n",
       "    <tr>\n",
       "      <th>3</th>\n",
       "      <td>2023-05-01 00:31:48.641</td>\n",
       "      <td>Pequeño</td>\n",
       "      <td>9:00 pm - 6:00 am</td>\n",
       "    </tr>\n",
       "    <tr>\n",
       "      <th>4</th>\n",
       "      <td>2023-05-01 00:40:09.796</td>\n",
       "      <td>Pequeño</td>\n",
       "      <td>9:00 pm - 6:00 am</td>\n",
       "    </tr>\n",
       "  </tbody>\n",
       "</table>\n",
       "</div>"
      ],
      "text/plain": [
       "         Fecha de Llegada Tipo de Avión     Franja Horaria\n",
       "0 2023-05-01 00:00:00.000       Mediano  9:00 pm - 6:00 am\n",
       "1 2023-05-01 00:12:48.533        Grande  9:00 pm - 6:00 am\n",
       "2 2023-05-01 00:20:31.919       Mediano  9:00 pm - 6:00 am\n",
       "3 2023-05-01 00:31:48.641       Pequeño  9:00 pm - 6:00 am\n",
       "4 2023-05-01 00:40:09.796       Pequeño  9:00 pm - 6:00 am"
      ]
     },
     "execution_count": 34,
     "metadata": {},
     "output_type": "execute_result"
    }
   ],
   "source": [
    "def asignar_franja(row):\n",
    "    hora = row.hour\n",
    "    if 6 <= hora < 11:\n",
    "        return '6:00 am - 11:00 am'\n",
    "    elif 11 <= hora < 15:\n",
    "        return '11:00 am - 3:00 pm'\n",
    "    elif 15 <= hora < 21:\n",
    "        return '3:00 pm - 9:00 pm'\n",
    "    else:\n",
    "        return '9:00 pm - 6:00 am'\n",
    "\n",
    "# Aplicar la función a la columna 'Fecha de Llegada'\n",
    "datos_llegada_aviones['Franja Horaria'] = datos_llegada_aviones['Fecha de Llegada'].apply(asignar_franja)\n",
    "datos_llegada_aviones.head()"
   ]
  },
  {
   "cell_type": "markdown",
   "metadata": {},
   "source": [
    "Inicialmente asignamos una franja horaria para para los datos de llegada, para despues proceder a hacer un analisis de tiempo entre llegadas para cada franja horaria"
   ]
  },
  {
   "cell_type": "code",
   "execution_count": 35,
   "metadata": {},
   "outputs": [
    {
     "data": {
      "text/html": [
       "<div>\n",
       "<style scoped>\n",
       "    .dataframe tbody tr th:only-of-type {\n",
       "        vertical-align: middle;\n",
       "    }\n",
       "\n",
       "    .dataframe tbody tr th {\n",
       "        vertical-align: top;\n",
       "    }\n",
       "\n",
       "    .dataframe thead th {\n",
       "        text-align: right;\n",
       "    }\n",
       "</style>\n",
       "<table border=\"1\" class=\"dataframe\">\n",
       "  <thead>\n",
       "    <tr style=\"text-align: right;\">\n",
       "      <th></th>\n",
       "      <th>Fecha de Llegada</th>\n",
       "      <th>Tipo de Avión</th>\n",
       "      <th>Franja Horaria</th>\n",
       "      <th>Tiempo entre Arribos</th>\n",
       "      <th>Tiempo entre Arribos (minutos)</th>\n",
       "    </tr>\n",
       "  </thead>\n",
       "  <tbody>\n",
       "    <tr>\n",
       "      <th>0</th>\n",
       "      <td>2023-05-01 00:00:00.000</td>\n",
       "      <td>Mediano</td>\n",
       "      <td>9:00 pm - 6:00 am</td>\n",
       "      <td>2023-05-01 00:00:00.000</td>\n",
       "      <td>NaN</td>\n",
       "    </tr>\n",
       "    <tr>\n",
       "      <th>1</th>\n",
       "      <td>2023-05-01 00:12:48.533</td>\n",
       "      <td>Grande</td>\n",
       "      <td>9:00 pm - 6:00 am</td>\n",
       "      <td>2023-05-01 00:12:48.533</td>\n",
       "      <td>12.808883</td>\n",
       "    </tr>\n",
       "    <tr>\n",
       "      <th>2</th>\n",
       "      <td>2023-05-01 00:20:31.919</td>\n",
       "      <td>Mediano</td>\n",
       "      <td>9:00 pm - 6:00 am</td>\n",
       "      <td>2023-05-01 00:20:31.919</td>\n",
       "      <td>7.723100</td>\n",
       "    </tr>\n",
       "    <tr>\n",
       "      <th>3</th>\n",
       "      <td>2023-05-01 00:31:48.641</td>\n",
       "      <td>Pequeño</td>\n",
       "      <td>9:00 pm - 6:00 am</td>\n",
       "      <td>2023-05-01 00:31:48.641</td>\n",
       "      <td>11.278700</td>\n",
       "    </tr>\n",
       "    <tr>\n",
       "      <th>4</th>\n",
       "      <td>2023-05-01 00:40:09.796</td>\n",
       "      <td>Pequeño</td>\n",
       "      <td>9:00 pm - 6:00 am</td>\n",
       "      <td>2023-05-01 00:40:09.796</td>\n",
       "      <td>8.352583</td>\n",
       "    </tr>\n",
       "  </tbody>\n",
       "</table>\n",
       "</div>"
      ],
      "text/plain": [
       "         Fecha de Llegada Tipo de Avión     Franja Horaria  \\\n",
       "0 2023-05-01 00:00:00.000       Mediano  9:00 pm - 6:00 am   \n",
       "1 2023-05-01 00:12:48.533        Grande  9:00 pm - 6:00 am   \n",
       "2 2023-05-01 00:20:31.919       Mediano  9:00 pm - 6:00 am   \n",
       "3 2023-05-01 00:31:48.641       Pequeño  9:00 pm - 6:00 am   \n",
       "4 2023-05-01 00:40:09.796       Pequeño  9:00 pm - 6:00 am   \n",
       "\n",
       "     Tiempo entre Arribos  Tiempo entre Arribos (minutos)  \n",
       "0 2023-05-01 00:00:00.000                             NaN  \n",
       "1 2023-05-01 00:12:48.533                       12.808883  \n",
       "2 2023-05-01 00:20:31.919                        7.723100  \n",
       "3 2023-05-01 00:31:48.641                       11.278700  \n",
       "4 2023-05-01 00:40:09.796                        8.352583  "
      ]
     },
     "execution_count": 35,
     "metadata": {},
     "output_type": "execute_result"
    }
   ],
   "source": [
    "datos_llegada_aviones = datos_llegada_aviones.sort_values('Fecha de Llegada')\n",
    "\n",
    "# Calcular el tiempo entre arribos\n",
    "datos_llegada_aviones['Tiempo entre Arribos'] = datos_llegada_aviones['Fecha de Llegada']\n",
    "\n",
    "# Filtrar datos para obtener tiempos entre arribos en cada franja horaria\n",
    "datos_llegada_aviones['Tiempo entre Arribos (minutos)'] = datos_llegada_aviones['Fecha de Llegada'].diff().dt.total_seconds() / 60\n",
    "\n",
    "\n",
    "datos_llegada_aviones.head()\n"
   ]
  },
  {
   "cell_type": "code",
   "execution_count": 36,
   "metadata": {},
   "outputs": [
    {
     "data": {
      "text/plain": [
       "Franja Horaria\n",
       "11:00 am - 3:00 pm    1289\n",
       "6:00 am - 11:00 am    1046\n",
       "3:00 pm - 9:00 pm     1021\n",
       "9:00 pm - 6:00 am     1018\n",
       "Name: count, dtype: int64"
      ]
     },
     "execution_count": 36,
     "metadata": {},
     "output_type": "execute_result"
    }
   ],
   "source": [
    "datos_llegada_aviones['Franja Horaria'].value_counts()"
   ]
  },
  {
   "cell_type": "code",
   "execution_count": 37,
   "metadata": {},
   "outputs": [],
   "source": [
    "franjas = ['6:00 am - 11:00 am', '11:00 am - 3:00 pm', '3:00 pm - 9:00 pm', '9:00 pm - 6:00 am']\n"
   ]
  },
  {
   "cell_type": "markdown",
   "metadata": {},
   "source": [
    "#### b. Tiempo de atención del módulo biométrico inteligente. (30 puntos)"
   ]
  },
  {
   "cell_type": "code",
   "execution_count": 38,
   "metadata": {},
   "outputs": [
    {
     "name": "stdout",
     "output_type": "stream",
     "text": [
      "Media: 1.34 minutos\n",
      "Mediana: 0.92 minutos\n",
      "Desviación Estándar: 1.33 minutos\n",
      "Rango Intercuartílico: 1.48 minutos\n"
     ]
    }
   ],
   "source": [
    "media_tiempo = datos_tiempo_servicio['Tiempo de servicio (minutos)'].mean()\n",
    "mediana_tiempo = datos_tiempo_servicio['Tiempo de servicio (minutos)'].median()\n",
    "desviacion_estandar = datos_tiempo_servicio['Tiempo de servicio (minutos)'].std()\n",
    "rango_intercuartilico = datos_tiempo_servicio['Tiempo de servicio (minutos)'].quantile(0.75) - datos_tiempo_servicio['Tiempo de servicio (minutos)'].quantile(0.25)\n",
    "\n",
    "print(f\"Media: {media_tiempo:.2f} minutos\")\n",
    "print(f\"Mediana: {mediana_tiempo:.2f} minutos\")\n",
    "print(f\"Desviación Estándar: {desviacion_estandar:.2f} minutos\")\n",
    "print(f\"Rango Intercuartílico: {rango_intercuartilico:.2f} minutos\")"
   ]
  },
  {
   "cell_type": "code",
   "execution_count": 39,
   "metadata": {},
   "outputs": [
    {
     "data": {
      "image/png": "[encoded data removed]",
      "text/plain": [
       "<Figure size 1200x600 with 2 Axes>"
      ]
     },
     "metadata": {},
     "output_type": "display_data"
    }
   ],
   "source": [
    "plt.figure(figsize=(12, 6))\n",
    "\n",
    "# Histograma\n",
    "plt.subplot(1, 2, 1)\n",
    "sns.histplot(datos_tiempo_servicio['Tiempo de servicio (minutos)'], kde=True)\n",
    "plt.title('Distribución del Tiempo de Servicio')\n",
    "\n",
    "# Gráfico de Caja\n",
    "plt.subplot(1, 2, 2)\n",
    "sns.boxplot(x=datos_tiempo_servicio['Tiempo de servicio (minutos)'])\n",
    "plt.title('Gráfico de Caja del Tiempo de Servicio')\n",
    "\n",
    "plt.tight_layout()\n",
    "plt.show()"
   ]
  },
  {
   "cell_type": "markdown",
   "metadata": {},
   "source": [
    "### Discretas"
   ]
  },
  {
   "cell_type": "markdown",
   "metadata": {},
   "source": [
    "#### c. Probabilidad de que el avión que acaba de aterrizar sea grande, mediano o pequeño. (10 puntos)"
   ]
  },
  {
   "cell_type": "code",
   "execution_count": 40,
   "metadata": {},
   "outputs": [
    {
     "name": "stdout",
     "output_type": "stream",
     "text": [
      "Conteo por tipo de avión:\n",
      "Tipo de Avión\n",
      "Mediano    2623\n",
      "Grande     1314\n",
      "Pequeño     437\n",
      "Name: count, dtype: int64\n"
     ]
    }
   ],
   "source": [
    "total_aviones = datos_llegada_aviones.shape[0]\n",
    "\n",
    "conteo_por_tipo = datos_llegada_aviones['Tipo de Avión'].value_counts()\n",
    "\n",
    "# Mostrar los conteos\n",
    "print(\"Conteo por tipo de avión:\")\n",
    "print(conteo_por_tipo)"
   ]
  },
  {
   "cell_type": "code",
   "execution_count": 41,
   "metadata": {},
   "outputs": [
    {
     "name": "stdout",
     "output_type": "stream",
     "text": [
      "\n",
      "Probabilidades de cada tipo de avión:\n",
      "Tipo de Avión\n",
      "Mediano    0.599680\n",
      "Grande     0.300412\n",
      "Pequeño    0.099909\n",
      "Name: count, dtype: float64\n"
     ]
    }
   ],
   "source": [
    "probabilidades_tamano_avion = conteo_por_tipo / total_aviones\n",
    "\n",
    "# Mostrar las probabilidades\n",
    "print(\"\\nProbabilidades de cada tipo de avión:\")\n",
    "print(probabilidades_tamano_avion)"
   ]
  },
  {
   "cell_type": "markdown",
   "metadata": {},
   "source": [
    "#### d. Probabilidad asociada al tipo de pasajero/pasaporte. (10 puntos)"
   ]
  },
  {
   "cell_type": "code",
   "execution_count": 42,
   "metadata": {},
   "outputs": [
    {
     "name": "stdout",
     "output_type": "stream",
     "text": [
      "Conteo por tipo de pasaporte:\n",
      "Tipo de pasaporte\n",
      "Biométrico    76203\n",
      "Name: count, dtype: int64\n"
     ]
    }
   ],
   "source": [
    "total_registros = datos_tiempo_servicio.shape[0]\n",
    "\n",
    "# Contar la cantidad de cada tipo de pasaporte\n",
    "conteo_por_tipo = datos_tiempo_servicio['Tipo de pasaporte'].value_counts()\n",
    "\n",
    "print(\"Conteo por tipo de pasaporte:\")\n",
    "print(conteo_por_tipo)"
   ]
  },
  {
   "cell_type": "code",
   "execution_count": 29,
   "metadata": {},
   "outputs": [
    {
     "name": "stdout",
     "output_type": "stream",
     "text": [
      "\n",
      "Probabilidades asociadas a cada tipo de pasaporte:\n",
      "Tipo de pasaporte\n",
      "Biométrico    1.0\n",
      "Name: count, dtype: float64\n"
     ]
    }
   ],
   "source": [
    "probabilidades_tipo_pasajero = conteo_por_tipo / total_registros\n",
    "\n",
    "# Mostrar las probabilidades\n",
    "print(\"\\nProbabilidades asociadas a cada tipo de pasaporte:\")\n",
    "print(probabilidades_tipo_pasajero)"
   ]
  },
  {
   "cell_type": "markdown",
   "metadata": {},
   "source": [
    "#### e. Probabilidad de que el pasajero haya viajado con maleta. (10 puntos)"
   ]
  },
  {
   "cell_type": "code",
   "execution_count": 44,
   "metadata": {},
   "outputs": [
    {
     "name": "stdout",
     "output_type": "stream",
     "text": [
      "Total de pasajeros: 507530\n",
      "Pasajeros con maleta: 372153\n",
      "Probabilidad de que un pasajero haya viajado con maleta: 0.73\n"
     ]
    }
   ],
   "source": [
    "total_pasajeros = datos_pasajeros.shape[0]\n",
    "conteo_con_maleta = datos_pasajeros['¿Lleva maleta?'].value_counts().get('Sí', 0)\n",
    "\n",
    "# Mostrar los conteos\n",
    "print(f\"Total de pasajeros: {total_pasajeros}\")\n",
    "print(f\"Pasajeros con maleta: {conteo_con_maleta}\")\n",
    "\n",
    "probabilidad_con_maleta = conteo_con_maleta / total_pasajeros\n",
    "\n",
    "# Mostrar la probabilidad\n",
    "print(f\"Probabilidad de que un pasajero haya viajado con maleta: {probabilidad_con_maleta:.2f}\")\n"
   ]
  }
 ],
 "metadata": {
  "kernelspec": {
   "display_name": "VSCEnv",
   "language": "python",
   "name": "python3"
  },
  "language_info": {
   "codemirror_mode": {
    "name": "ipython",
    "version": 3
   },
   "file_extension": ".py",
   "mimetype": "text/x-python",
   "name": "python",
   "nbconvert_exporter": "python",
   "pygments_lexer": "ipython3",
   "version": "3.10.13"
  }
 },
 "nbformat": 4,
 "nbformat_minor": 2
}
